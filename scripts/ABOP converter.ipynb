{
 "cells": [
  {
   "cell_type": "markdown",
   "id": "d66935f3-859e-447d-a7cd-ce94da185d82",
   "metadata": {},
   "source": [
    "# ABOP to Tersoff converter\n",
    "\n",
    "This Notebook oversees the conversion of potentials represented by the Able-Nordlund ABOP formulation into the LAMMPS Tersoff format.\n",
    "\n",
    "For each section, the converter reads in the ABOP parameters from the .abop file in which the original parameters were copied from the source paper.  The generated LAMMPS potential is outputted and compared to reference parameters from another implementation."
   ]
  },
  {
   "cell_type": "code",
   "execution_count": 1,
   "id": "8f89425a-ede8-4b61-851e-5275f282cb38",
   "metadata": {},
   "outputs": [],
   "source": [
    "from pathlib import Path\n",
    "\n",
    "import numpy as np\n",
    "import pandas as pd\n",
    "\n",
    "from potentials.paramfile import Tersoff"
   ]
  },
  {
   "cell_type": "code",
   "execution_count": 27,
   "id": "e969b044-8c51-481c-8fac-18260255da3b",
   "metadata": {},
   "outputs": [],
   "source": [
    "headers = \"\"\"!!!! UNNVERIFIED TEST PARAMETER FILE !!!!\n",
    "\n",
    "This parameter file was created using the potentials.paramfile.Tersoff()\n",
    "parameter file builder.  Parameters were extracted from the original\n",
    "publication into a text file then converted into a LAMMPS-compatible format\n",
    "using the Tersoff builder's abop() method.\n",
    "\n",
    "!!!! CAUTION !!!! This implementation has not been verified! Use at your own\n",
    "risk!\n",
    "\n",
    "!!!! CAUTION !!!! This implementation was based on converting published ABOP\n",
    "parameters into a LAMMPS-compatible Tersoff form.  The conversion follows the\n",
    "published equations for the two formats and was checked against potentials in\n",
    "which we have representations in both formats.  However, it is always possible\n",
    "that something is incorrect in the conversion or that the conversion is invalid\n",
    "for a particular potential due to some functional difference.\n",
    "\n",
    "!!!! CAUTION !!!! While the ABOP parameters were verified against the original\n",
    "publication, there's always a chance that the published parameters and property\n",
    "results do not correspond to each other.  Numerous potentials are known to have\n",
    "typos in reported parameters, results, equations, etc.  Whenever possible, use\n",
    "implementations from the original potential developers themselves!\n",
    "\n",
    "\n",
    "\"\"\""
   ]
  },
  {
   "cell_type": "markdown",
   "id": "e5dce1a8-913b-4a13-be14-553cb349a764",
   "metadata": {},
   "source": [
    "## 2002--Albe-K--Ga-As"
   ]
  },
  {
   "cell_type": "code",
   "execution_count": 24,
   "id": "23171a56-3023-412f-a672-9e1c006c988a",
   "metadata": {},
   "outputs": [
    {
     "name": "stdout",
     "output_type": "stream",
     "text": [
      "#e1 e2  e3  m   gamma    lambda3 c      d      costheta0 n   beta lambda2            B                  Rcut D    lambda1            A                 \n",
      "Ga  Ga  Ga  1   0.007874 1.846   1.918  0.75   -0.3013   1.0 1.0  1.4496970792622927 410.13170048006185 2.95 0.15 1.6091637579811449 535.1992682033992 \n",
      "Ga  Ga  As  1   0.0166   0.0     1.29   0.56   -0.237    1.0 1.0  0.0                0.0                3.1  0.2  0.0                0.0               \n",
      "Ga  As  Ga  1   0.007874 1.846   1.918  0.75   -0.3013   1.0 1.0  0.0                0.0                2.95 0.15 0.0                0.0               \n",
      "Ga  As  As  1   0.0166   0.0     1.29   0.56   -0.237    1.0 1.0  2.0154956513236417 1929.3021521674843 3.1  0.2  2.3010913851162016 3306.168457081707 \n",
      "As  Ga  Ga  1   0.0166   0.0     1.29   0.56   -0.237    1.0 1.0  2.0154956513236417 1929.3021521674843 3.1  0.2  2.3010913851162016 3306.168457081707 \n",
      "As  Ga  As  1   0.455    3.161   0.1186 0.1612 -0.07748  1.0 1.0  0.0                0.0                3.4  0.2  0.0                0.0               \n",
      "As  As  Ga  1   0.0166   0.0     1.29   0.56   -0.237    1.0 1.0  0.0                0.0                3.1  0.2  0.0                0.0               \n",
      "As  As  As  1   0.455    3.161   0.1186 0.1612 -0.07748  1.0 1.0  1.48802568193816   194.90209095351517 3.4  0.2  2.767727768404978  1539.626646460118 \n"
     ]
    }
   ],
   "source": [
    "paramfile = Path('..', 'potentials', '2002--Albe-K--Ga-As', 'GaAs.abop')\n",
    "tersoff = Tersoff.abop(paramfile)\n",
    "\n",
    "if tersoff.pair_style == 'tersoff':\n",
    "    outfile = paramfile.as_posix().replace('.abop', '_abop.tersoff')\n",
    "else:\n",
    "    outfile = paramfile.as_posix().replace('.abop', '_abop.tersoff.zbl')\n",
    "tersoff.save(outfile, headers=headers)\n",
    "\n",
    "print(str(tersoff))"
   ]
  },
  {
   "cell_type": "raw",
   "id": "f56d288e-cc03-4eb9-bb48-1d3a267856ad",
   "metadata": {},
   "source": [
    "#e1  e2  e3  m      gamma      lambda3     c            d          h      n  beta   lambda2    B        Rcut      D      lambda1      A\n",
    "Ga  Ga  Ga  1.0  7.874000e-03    1.846   1.918000   0.750000  -0.301300 1.0 1.0   1.449697  410.132    2.950    0.150   1.609164   535.1993\n",
    "Ga  Ga  As  1.0  1.660000e-02    0.000   1.290000   0.560000  -0.237000 1.0 0.0   0.000000    0.000    3.100    0.200   0.000000     0.0000\n",
    "Ga  As  Ga  1.0  7.874000e-03    1.846   1.918000   0.750000  -0.301300 1.0 0.0   0.000000    0.000    2.950    0.150   0.000000     0.0000\n",
    "Ga  As  As  1.0  1.660000e-02    0.000   1.290000   0.560000  -0.237000 1.0 1.0   2.015496 1929.302    3.100    0.200   2.301091  3306.1685\n",
    "As  Ga  Ga  1.0  1.660000e-02    0.000   1.290000   0.560000  -0.237000 1.0 1.0   2.015496 1929.302    3.100    0.200   2.301091  3306.1685\n",
    "As  Ga  As  1.0  4.550000e-01    3.161   0.118600   0.161200  -0.077480 1.0 0.0   0.000000    0.000    3.400    0.200   0.000000     0.0000\n",
    "As  As  Ga  1.0  1.660000e-02    0.000   1.290000   0.560000  -0.237000 1.0 0.0   0.000000    0.000    3.100    0.200   0.000000     0.0000\n",
    "As  As  As  1.0  4.550000e-01    3.161   0.118600   0.161200  -0.077480 1.0 1.0   1.488026  194.902    3.400    0.200   2.767728  1539.6266"
   ]
  },
  {
   "cell_type": "code",
   "execution_count": 28,
   "id": "49e902d4-5e84-49fb-9969-566f4307c937",
   "metadata": {},
   "outputs": [],
   "source": []
  },
  {
   "cell_type": "code",
   "execution_count": 29,
   "id": "f69967b5-dffa-4ad3-9937-34bc59ff7f50",
   "metadata": {},
   "outputs": [
    {
     "data": {
      "text/plain": [
       "'tersoff'"
      ]
     },
     "execution_count": 29,
     "metadata": {},
     "output_type": "execute_result"
    }
   ],
   "source": [
    "tersoff.pair_style"
   ]
  },
  {
   "cell_type": "markdown",
   "id": "13b0db2a-361f-4b19-9370-6bc5a94174b0",
   "metadata": {},
   "source": [
    "Agreement between generated and ABOP_LAMMPS."
   ]
  },
  {
   "cell_type": "markdown",
   "id": "8eee485d-ca87-451e-a4ba-f3acc0b4381d",
   "metadata": {},
   "source": [
    "## 2002--Albe-K--Pt-C"
   ]
  },
  {
   "cell_type": "code",
   "execution_count": 31,
   "id": "ecfaf0f2-849a-4e37-93e2-fcfe960b4e9f",
   "metadata": {},
   "outputs": [
    {
     "name": "stdout",
     "output_type": "stream",
     "text": [
      "#e1 e2  e3  m   gamma      lambda3 c     d    costheta0 n   beta lambda2            B                 Rcut D    lambda1            A                  \n",
      "Pt  Pt  Pt  1   0.0008542  2.67    34.0  1.1  -1.0      1.0 1.0  1.5509792925998573 268.153472301114  3.1  0.2  3.4788000239227026 11845.26178712146  \n",
      "Pt  Pt  C   1   0.0097     0.0     1.23  0.36 -1.0      1.0 1.0  0.0                0.0               2.65 0.15 0.0                0.0                \n",
      "Pt  C   Pt  1   0.0008542  2.67    34.0  1.1  -1.0      1.0 1.0  0.0                0.0               3.1  0.2  0.0                0.0                \n",
      "Pt  C   C   1   0.0097     0.0     1.23  0.36 -1.0      1.0 1.0  2.373730025335676  2544.943028853557 2.65 0.15 2.8401679753141362 5017.608690956735  \n",
      "C   Pt  Pt  1   0.0097     0.0     1.23  0.36 -1.0      1.0 1.0  2.373730025335676  2544.943028853557 2.65 0.15 2.8401679753141362 5017.608690956735  \n",
      "C   Pt  C   1   0.00020813 0.0     330.0 3.5  -1.0      1.0 1.0  0.0                0.0               1.85 0.15 0.0                0.0                \n",
      "C   C   Pt  1   0.0097     0.0     1.23  0.36 -1.0      1.0 1.0  0.0                0.0               2.65 0.15 0.0                0.0                \n",
      "C   C   C   1   0.00020813 0.0     330.0 3.5  -1.0      1.0 1.0  2.688774478590816  1397.072962447687 1.85 0.15 3.280304863880795  2605.8415729607395 \n"
     ]
    }
   ],
   "source": [
    "paramfile = Path('..', 'potentials', '2002--Albe-K--Pt-C', 'PtC.abop')\n",
    "tersoff = Tersoff.abop(paramfile)\n",
    "\n",
    "if tersoff.pair_style == 'tersoff':\n",
    "    outfile = paramfile.as_posix().replace('.abop', '_abop.tersoff')\n",
    "else:\n",
    "    outfile = paramfile.as_posix().replace('.abop', '_abop.tersoff.zbl')\n",
    "tersoff.save(outfile, headers=headers)\n",
    "\n",
    "print(str(tersoff))"
   ]
  },
  {
   "cell_type": "raw",
   "id": "ea50ac2c-e699-4fc3-b596-d5b8a3c711ea",
   "metadata": {},
   "source": [
    "#e1  e2  e3  m      gamma      lambda3     c            d          h      n  beta   lambda2    B        Rcut      D      lambda1      A\n",
    "Pt  Pt  Pt  1.0  8.542000e-04    2.670  34.000000   1.100000  -1.000000 1.0 1.0   1.550979  268.153    3.100    0.200   3.478800 11845.2618\n",
    "Pt  Pt  C   1.0  9.700000e-03    0.000 330.000000   3.500000  -1.000000 1.0 0.0   0.000000    0.000    1.850    0.150   0.000000     0.0000\n",
    "Pt  C   Pt  1.0  8.542000e-04    2.670  34.000000   1.100000  -1.000000 1.0 0.0   0.000000    0.000    3.100    0.200   0.000000     0.0000\n",
    "Pt  C   C   1.0  9.700000e-03    0.000 330.000000   3.500000  -1.000000 1.0 1.0   2.688774 1397.073    1.850    0.150   3.280305  2605.8416\n",
    "C   Pt  Pt  1.0  9.700000e-03    0.000 330.000000   3.500000  -1.000000 1.0 1.0   2.688774 1397.073    1.850    0.150   3.280305  2605.8416\n",
    "C   Pt  C   1.0  2.081300e-04    0.000   1.230000   0.360000  -1.000000 1.0 0.0   0.000000    0.000    2.650    0.150   0.000000     0.0000\n",
    "C   C   Pt  1.0  9.700000e-03    0.000 330.000000   3.500000  -1.000000 1.0 0.0   0.000000    0.000    1.850    0.150   0.000000     0.0000\n",
    "C   C   C   1.0  2.081300e-04    0.000   1.230000   0.360000  -1.000000 1.0 1.0   2.373730 2544.943    2.650    0.150   2.840168  5017.6087"
   ]
  },
  {
   "cell_type": "raw",
   "id": "4470363a-86f1-4f30-bbe0-d557161c5a7d",
   "metadata": {},
   "source": [
    "Pt Pt Pt 1 8.542e-4  2.67 34.00 1.1  -1.0 1 1 1.5509792925998573 268.153472301114  3.1  0.2  3.4788000239227026 11845.26178712146\n",
    "Pt Pt C  1 9.7e-3    0.0  1.23  0.36 -1.0 0 0 0                  0                 2.65 0.15 0                  0\n",
    "Pt C  Pt 1 8.542e-4  2.67 34.00 1.1  -1.0 0 0 0                  0                 3.1  0.2  0                  0\n",
    "Pt C  C  1 9.7e-3    0.0  1.23  0.36 -1.0 1 1 2.373730025335676  2544.943028853557 2.65 0.15 2.8401679753141362 5017.608690956735\n",
    "C  Pt Pt 1 9.7e-3    0.0  1.23  0.36 -1.0 1 1 2.373730025335676  2544.943028853557 2.65 0.15 2.8401679753141362 5017.608690956735\n",
    "C  Pt C  1 2.0813e-4 0.0  330   3.5  -1.0 0 0 0                  0                 1.85 0.15 0                  0\n",
    "C  C  Pt 1 9.7e-3    0.0  1.23  0.36 -1.0 0 0 0                  0                 2.65 0.15 0                  0\n",
    "C  C  C  1 2.0813e-4 0.0  330   3.5  -1.0 1 1 2.688774478590816 1397.072962447687  1.85 0.15 3.280304863880795  2605.8415729607395"
   ]
  },
  {
   "cell_type": "markdown",
   "id": "51f512da-ed57-4102-bf86-4d2ef2729cb0",
   "metadata": {},
   "source": [
    "__MISMATCH WITH REFERENCE PARAMETER FILE!__ Can reproduce by swapping Pt-C and C-C parameters..."
   ]
  },
  {
   "cell_type": "markdown",
   "id": "e06f67a7-bac5-4a69-b974-0bbb4686d4e2",
   "metadata": {},
   "source": [
    "## 2003--Nord-J--Ga-N"
   ]
  },
  {
   "cell_type": "code",
   "execution_count": 30,
   "id": "46308afc-3298-438e-8279-7e40bd32b043",
   "metadata": {},
   "outputs": [
    {
     "name": "stdout",
     "output_type": "stream",
     "text": [
      "#e1 e2  e3  m   gamma    lambda3 c        d       costheta0 n   beta lambda2            B                  Rcut D    lambda1            A                  \n",
      "Ga  Ga  Ga  1   0.007874 1.846   1.918    0.75    -0.3013   1.0 1.0  1.4496970792622927 410.13170048006185 2.87 0.15 1.6091637579811449 535.1992682033992  \n",
      "Ga  Ga  N   1   0.001632 0.0     65.207   2.821   -0.518    1.0 1.0  0.0                0.0                2.9  0.2  0.0                0.0                \n",
      "Ga  N   Ga  1   0.007874 1.846   1.918    0.75    -0.3013   1.0 1.0  0.0                0.0                2.87 0.15 0.0                0.0                \n",
      "Ga  N   N   1   0.001632 0.0     65.207   2.821   -0.518    1.0 1.0  2.6390562469343104 3864.2674028818305 2.9  0.2  2.93515835784034   6136.436731930555  \n",
      "N   Ga  Ga  1   0.001632 0.0     65.207   2.821   -0.518    1.0 1.0  2.6390562469343104 3864.2674028818305 2.9  0.2  2.93515835784034   6136.436731930555  \n",
      "N   Ga  N   1   0.76612  0.0     0.178493 0.20172 -0.045238 1.0 1.0  0.0                0.0                2.2  0.2  0.0                0.0                \n",
      "N   N   Ga  1   0.001632 0.0     65.207   2.821   -0.518    1.0 1.0  0.0                0.0                2.9  0.2  0.0                0.0                \n",
      "N   N   N   1   0.76612  0.0     0.178493 0.20172 -0.045238 1.0 1.0  2.3842551670030017 423.7693264497686  2.2  0.2  3.557785560201879  1044.7746144569705 \n"
     ]
    }
   ],
   "source": [
    "paramfile = Path('..', 'potentials', '2003--Nord-J--Ga-N', 'GaN.abop')\n",
    "tersoff = Tersoff.abop(paramfile)\n",
    "\n",
    "if tersoff.pair_style == 'tersoff':\n",
    "    outfile = paramfile.as_posix().replace('.abop', '_abop.tersoff')\n",
    "else:\n",
    "    outfile = paramfile.as_posix().replace('.abop', '_abop.tersoff.zbl')\n",
    "tersoff.save(outfile, headers=headers)\n",
    "\n",
    "print(str(tersoff))"
   ]
  },
  {
   "cell_type": "raw",
   "id": "1c0de6a8-573e-4615-aa6a-103c0359ea32",
   "metadata": {},
   "source": [
    "# e1 e2 e3 m   gamma    lambda3 c        d       costheta0 n   beta lambda2            B                  R    D    lambda1            A\n",
    "  Ga Ga Ga 1.0 0.007874 1.846   1.918    0.75    -0.3013   1.0 1.0  1.4496970792622927 410.13170048006185 2.87 0.15 1.6091637579811449 535.1992682033992\n",
    "  Ga Ga N  1.0 0.001632 0.0     65.207   2.821   -0.518    0.0 0.0  0.0                0.0                2.9  0.2  0.0                0.0\n",
    "  Ga N  Ga 1.0 0.007874 1.846   1.918    0.75    -0.3013   0.0 0.0  0.0                0.0                2.87 0.15 0.0                0.0\n",
    "  Ga N  N  1.0 0.001632 0.0     65.207   2.821   -0.518    1.0 1.0  2.6390562469343104 3864.2674028818305 2.9  0.2  2.93515835784034   6136.436731930555\n",
    "  N  Ga Ga 1.0 0.001632 0.0     65.207   2.821   -0.518    1.0 1.0  2.6390562469343104 3864.2674028818305 2.9  0.2  2.93515835784034   6136.436731930555\n",
    "  N  Ga N  1.0 0.76612  0.0     0.178493 0.20172 -0.045238 0.0 0.0  0.0                0.0                2.2  0.2  0.0                0.0\n",
    "  N  N  Ga 1.0 0.001632 0.0     65.207   2.821   -0.518    0.0 0.0  0.0                0.0                2.9  0.2  0.0                0.0\n",
    "  N  N  N  1.0 0.76612  0.0     0.178493 0.20172 -0.045238 1.0 1.0  2.3842551670030017 423.7693264497686  2.2  0.2  3.557785560201879  1044.7746144569705"
   ]
  },
  {
   "cell_type": "markdown",
   "id": "d3a1d439-fae1-464e-a01c-64936decc792",
   "metadata": {},
   "source": [
    "Agreement between generated here and previously generated.  Note previously generated zeroes n and beta values for the unused interactions."
   ]
  },
  {
   "cell_type": "markdown",
   "id": "4fc2efdd-94a0-49b0-a5e8-6695b24cef82",
   "metadata": {},
   "source": [
    "## 2005--Juslin-N--W-C-H"
   ]
  },
  {
   "cell_type": "code",
   "execution_count": 32,
   "id": "3fec2ebc-dd09-4917-9dc1-586c0f47c8d5",
   "metadata": {},
   "outputs": [
    {
     "name": "stdout",
     "output_type": "stream",
     "text": [
      "#e1 e2  e3  m   gamma      lambda3 c       d       costheta0 n   beta lambda2           B                  Rcut D    lambda1           A                  Z_i Z_j ZBLcut ZBLexpscale \n",
      "W   W   W   1   0.00188227 0.45876 2.14969 0.17126 0.2778    1.0 1.0  1.41124588921832  306.4996797421533  3.5  0.3  2.71958372819484  3401.474424137676  74  74  1.3    12.0        \n",
      "W   W   C   1   0.072855   0.0     1.10304 0.33018 -0.75107  1.0 1.0  0.0               0.0                2.8  0.2  0.0               0.0                74  74  1.2    7.0         \n",
      "W   C   W   1   0.00188227 0.45876 2.14969 0.17126 0.2778    1.0 1.0  0.0               0.0                3.5  0.3  0.0               0.0                74  6   1.3    12.0        \n",
      "W   C   C   1   0.072855   0.0     1.10304 0.33018 -0.75107  1.0 1.0  1.482259245322599 168.93273521595466 2.8  0.2  4.389695932430422 14528.121781472875 74  6   1.2    7.0         \n",
      "C   W   W   1   0.072855   0.0     1.10304 0.33018 -0.75107  1.0 1.0  1.482259245322599 168.93273521595466 2.8  0.2  4.389695932430422 14528.121781472875 6   74  1.2    7.0         \n",
      "C   W   C   1   0.00020813 0.0     330.0   3.5     -1.0      1.0 1.0  0.0               0.0                1.85 0.15 0.0               0.0                6   74  0.6    8.0         \n",
      "C   C   W   1   0.072855   0.0     1.10304 0.33018 -0.75107  1.0 1.0  0.0               0.0                2.8  0.2  0.0               0.0                6   6   1.2    7.0         \n",
      "C   C   C   1   0.00020813 0.0     330.0   3.5     -1.0      1.0 1.0  2.688774478590816 1397.072962447687  1.85 0.15 3.280304863880795 2605.8415729607395 6   6   0.6    8.0         \n"
     ]
    }
   ],
   "source": [
    "paramfile = Path('..', 'potentials', '2005--Juslin-N--W-C-H', 'WC.abop')\n",
    "tersoff = Tersoff.abop(paramfile)\n",
    "\n",
    "if tersoff.pair_style == 'tersoff':\n",
    "    outfile = paramfile.as_posix().replace('.abop', '_abop.tersoff')\n",
    "else:\n",
    "    outfile = paramfile.as_posix().replace('.abop', '_abop.tersoff.zbl')\n",
    "tersoff.save(outfile, headers=headers)\n",
    "\n",
    "print(str(tersoff))"
   ]
  },
  {
   "cell_type": "raw",
   "id": "58af7355-3e9b-49b2-82e3-f620697a52a8",
   "metadata": {},
   "source": [
    "#e1  e2  e3  m      gamma      lambda3     c            d          h      n  beta   lambda2    B        Rcut      D      lambda1      A\n",
    "W   W   W   1.0  1.882270e-03    0.459   2.149690   0.171260   0.277800 1.0 1.0   1.411246  306.500    3.500    0.300   2.719584  3401.4744\n",
    "W   W   C   1.0  7.285500e-02    0.000   1.103040   0.330180  -0.751070 1.0 0.0   0.000000    0.000    2.800    0.200   0.000000     0.0000\n",
    "W   C   W   1.0  1.882270e-03    0.459   2.149690   0.171260   0.277800 1.0 0.0   0.000000    0.000    3.500    0.300   0.000000     0.0000\n",
    "W   C   C   1.0  7.285500e-02    0.000   1.103040   0.330180  -0.751070 1.0 1.0   1.482259  168.933    2.800    0.200   4.389696 14528.1218\n",
    "C   W   W   1.0  7.285500e-02    0.000   1.103040   0.330180  -0.751070 1.0 1.0   1.482259  168.933    2.800    0.200   4.389696 14528.1218\n",
    "C   W   C   1.0  2.081300e-04    0.000 330.000000   3.500000  -1.000000 1.0 0.0   0.000000    0.000    1.850    0.150   0.000000     0.0000\n",
    "C   C   W   1.0  7.285500e-02    0.000   1.103040   0.330180  -0.751070 1.0 0.0   0.000000    0.000    2.800    0.200   0.000000     0.0000\n",
    "C   C   C   1.0  2.081300e-04    0.000 330.000000   3.500000  -1.000000 1.0 1.0   2.688774 1397.073    1.850    0.150   3.280305  2605.8416"
   ]
  },
  {
   "cell_type": "markdown",
   "id": "2f0a9f06-edb8-4f1e-934f-1f29346e57d7",
   "metadata": {},
   "source": [
    "Agreement between generated and ABOP_LAMMPS.  Adding H interactions more complicated."
   ]
  },
  {
   "cell_type": "markdown",
   "id": "522c7f18-c187-4329-880b-684ed40b9cbf",
   "metadata": {},
   "source": [
    "## 2006--Erhart-P--Zn-O"
   ]
  },
  {
   "cell_type": "code",
   "execution_count": 33,
   "id": "df49187b-c99a-40cd-8513-b7732f987e27",
   "metadata": {},
   "outputs": [
    {
     "name": "stdout",
     "output_type": "stream",
     "text": [
      "#e1 e2  e3  m   gamma      lambda3 c        d        costheta0 n   beta lambda2            B                 Rcut D   lambda1            A                 \n",
      "Zn  Zn  Zn  1   4.3909e-05 0.0     77.916   0.91344  -1.0      1.0 1.0  1.7965160854189726 115.1593431985539 2.85 0.2 3.261395301469603  2258.730853636288 \n",
      "Zn  Zn  O   1   0.019335   0.0     0.014108 0.084028 -0.30545  1.0 1.0  0.0                0.0               2.6  0.2 0.0                0.0               \n",
      "Zn  O   Zn  1   4.3909e-05 0.0     77.916   0.91344  -1.0      1.0 1.0  0.0                0.0               2.85 0.2 0.0                0.0               \n",
      "Zn  O   O   1   0.019335   0.0     0.014108 0.084028 -0.30545  1.0 1.0  2.513642455305317  6304.327815151947 2.6  0.2 2.628013187021709  7344.239422800065 \n",
      "O   Zn  Zn  1   0.019335   0.0     0.014108 0.084028 -0.30545  1.0 1.0  2.513642455305317  6304.327815151947 2.6  0.2 2.628013187021709  7344.239422800065 \n",
      "O   Zn  O   1   0.82595    0.0     0.035608 0.046496 -0.45056  1.0 1.0  0.0                0.0               2.45 0.2 0.0                0.0               \n",
      "O   O   Zn  1   0.019335   0.0     0.014108 0.084028 -0.30545  1.0 1.0  0.0                0.0               2.6  0.2 0.0                0.0               \n",
      "O   O   O   1   0.82595    0.0     0.035608 0.046496 -0.45056  1.0 1.0  2.7732859784544366 527.6505089731846 2.45 0.2 3.8448836805292306 1388.081581389159 \n"
     ]
    }
   ],
   "source": [
    "paramfile = Path('..', 'potentials', '2006--Erhart-P--Zn-O', 'ZnO.abop')\n",
    "tersoff = Tersoff.abop(paramfile)\n",
    "\n",
    "if tersoff.pair_style == 'tersoff':\n",
    "    outfile = paramfile.as_posix().replace('.abop', '_abop.tersoff')\n",
    "else:\n",
    "    outfile = paramfile.as_posix().replace('.abop', '_abop.tersoff.zbl')\n",
    "tersoff.save(outfile, headers=headers)\n",
    "\n",
    "print(str(tersoff))"
   ]
  },
  {
   "cell_type": "raw",
   "id": "4461fe6e-d77e-48e8-b7a7-70e7c590ca96",
   "metadata": {},
   "source": [
    "#e1  e2  e3  m      gamma      lambda3     c            d          h      n  beta   lambda2    B        Rcut      D      lambda1      A\n",
    "Zn  Zn  Zn  1.0  4.390900e-05    0.000  77.916000   0.913440  -1.000000 1.0 1.0   1.796516  115.159    2.850    0.200   3.261395  2258.7309\n",
    "Zn  Zn  O   1.0  1.933500e-02    0.000   0.014108   0.084028  -0.305450 1.0 0.0   0.000000    0.000    2.600    0.200   0.000000     0.0000\n",
    "Zn  O   Zn  1.0  4.390900e-05    0.000  77.916000   0.913440  -1.000000 1.0 0.0   0.000000    0.000    2.850    0.200   0.000000     0.0000\n",
    "Zn  O   O   1.0  1.933500e-02    0.000   0.014108   0.084028  -0.305450 1.0 1.0   2.513642 6304.328    2.600    0.200   2.628013  7344.2394\n",
    "O   Zn  Zn  1.0  1.933500e-02    0.000   0.014108   0.084028  -0.305450 1.0 1.0   2.513642 6304.328    2.600    0.200   2.628013  7344.2394\n",
    "O   Zn  O   1.0  8.259500e-01    0.000   0.035608   0.046496  -0.450560 1.0 0.0   0.000000    0.000    2.450    0.200   0.000000     0.0000\n",
    "O   O   Zn  1.0  1.933500e-02    0.000   0.014108   0.084028  -0.305450 1.0 0.0   0.000000    0.000    2.600    0.200   0.000000     0.0000\n",
    "O   O   O   1.0  8.259500e-01    0.000   0.035608   0.046496  -0.450560 1.0 1.0   2.773286  527.651    2.450    0.200   3.844884  1388.0816"
   ]
  },
  {
   "cell_type": "raw",
   "id": "b674270e-a826-42f9-b5be-ef351536ec70",
   "metadata": {},
   "source": [
    "Zn Zn Zn 1 4.3909e-5 0.0 77.916   0.91344  -1.0     1 1 1.7965160854189726 115.1593431985539 2.85 0.20 3.261395301469603  2258.730853636288\n",
    "Zn Zn O  1 0.019335  0.0 0.014108 0.084028 -0.30545 0 0 0                  0                 2.60 0.20 0                  0\n",
    "Zn O  Zn 1 4.3909e-5 0.0 77.916   0.91344  -1.0     0 0 0                  0                 2.85 0.20 0                  0\n",
    "Zn O  O  1 0.019335  0.0 0.014108 0.084028 -0.30545 1 1 2.513642455305317  6304.327815151947 2.60 0.20 2.628013187021709  7344.239422800065\n",
    "O  Zn Zn 1 0.019335  0.0 0.014108 0.084028 -0.30545 1 1 2.513642455305317  6304.327815151947 2.60 0.20 2.628013187021709  7344.239422800065\n",
    "O  Zn O  1 0.82595   0.0 0.035608 0.046496 -0.45056 0 0 0                  0                 2.45 0.2  0                  0\n",
    "O  O  Zn 1 0.019335  0.0 0.014108 0.084028 -0.30545 0 0 0                  0                 2.60 0.20 0                  0\n",
    "O  O  O  1 0.82595   0.0 0.035608 0.046496 -0.45056 1 1 2.7732859784544366 527.6505089731846 2.45 0.2  3.8448836805292306 1388.081581389159\n"
   ]
  },
  {
   "cell_type": "markdown",
   "id": "204ac3df-3e54-4906-9a58-d979c90558c4",
   "metadata": {},
   "source": [
    "Agreement between generated and ABOP_LAMMPS"
   ]
  },
  {
   "cell_type": "markdown",
   "id": "5d5b65dd-4985-46e0-9821-0db311d76e38",
   "metadata": {},
   "source": [
    "## 2007--Muller-M--Fe"
   ]
  },
  {
   "cell_type": "code",
   "execution_count": 34,
   "id": "807782fe-a1a9-485b-86eb-a9eb1573d63c",
   "metadata": {},
   "outputs": [
    {
     "name": "stdout",
     "output_type": "stream",
     "text": [
      "#e1 e2  e3  m   gamma     lambda3 c         d         costheta0 n   beta lambda2            B                Rcut D   lambda1           A                 \n",
      "Fe  Fe  Fe  1   0.0115751 0.0     1.2898716 0.3413219 0.26      1.0 1.0  1.3763540363137268 67.8647722798559 3.15 0.2 2.848104409602991 953.9485925552151 \n"
     ]
    }
   ],
   "source": [
    "paramfile = Path('..', 'potentials', '2007--Muller-M--Fe', 'Fe.abop')\n",
    "tersoff = Tersoff.abop(paramfile)\n",
    "\n",
    "if tersoff.pair_style == 'tersoff':\n",
    "    outfile = paramfile.as_posix().replace('.abop', '_abop.tersoff')\n",
    "else:\n",
    "    outfile = paramfile.as_posix().replace('.abop', '_abop.tersoff.zbl')\n",
    "tersoff.save(outfile, headers=headers)\n",
    "\n",
    "print(str(tersoff))"
   ]
  },
  {
   "cell_type": "raw",
   "id": "9c13d6f4-530b-4129-9ad8-1228b1929196",
   "metadata": {},
   "source": [
    "#e1  e2  e3  m      gamma      lambda3     c            d          h      n   beta   lambda2    B        Rcut      D        lambda1      A\n",
    "Fe  Fe  Fe  1.0  1.15751e-02    0.000   1.2898716   0.3413219  0.260000  1.0  1.0    1.376354  67.86477  3.150    0.200    2.8481044   953.948592"
   ]
  },
  {
   "cell_type": "raw",
   "id": "7857abf2-d0b4-461f-bf39-d4bc91b94641",
   "metadata": {},
   "source": [
    "Fe Fe Fe 1 0.0115751 0.0 1.2898716 0.3413219 0.26 1 1 1.3763540363137268 67.8647722798559 3.15 0.2 2.848104409602991 953.9485925552151"
   ]
  },
  {
   "cell_type": "markdown",
   "id": "1ca0c9fb-7419-422a-991e-5eec11528bcf",
   "metadata": {},
   "source": [
    "Agreement between generated and ABOP_LAMMPS"
   ]
  },
  {
   "cell_type": "markdown",
   "id": "82bdb5cb-e652-4278-81a9-d8f3558f8aec",
   "metadata": {},
   "source": [
    "## 2009--Bjorkas-C--Be-C"
   ]
  },
  {
   "cell_type": "code",
   "execution_count": 35,
   "id": "2ea824b4-e14a-4ddb-8b70-665f13b694e7",
   "metadata": {},
   "outputs": [
    {
     "name": "stdout",
     "output_type": "stream",
     "text": [
      "#e1 e2  e3  m   gamma       lambda3 c         d        costheta0  n   beta lambda2            B                  Rcut  D    lambda1            A                  Z_i Z_j ZBLcut ZBLexpscale \n",
      "Be  Be  Be  1   8.19587e-07 0.0     89.3894   0.27443  -0.7606934 1.0 1.0  1.3373593849680525 35.46007946735899  2.535 0.15 2.527368512900325  222.6758063238057  4   4   0.8    15.0        \n",
      "Be  Be  C   1   3.00184e-05 0.0     57.004094 0.358304 -0.559996  1.0 1.0  0.0                0.0                2.6   0.2  0.0                0.0                4   4   0.7    16.0        \n",
      "Be  C   Be  1   8.19587e-07 0.0     89.3894   0.27443  -0.7606934 1.0 1.0  0.0                0.0                2.535 0.15 0.0                0.0                4   6   0.8    15.0        \n",
      "Be  C   C   1   3.00184e-05 0.0     57.004094 0.358304 -0.559996  1.0 1.0  1.3490983055329717 62.686906304413164 2.6   0.2  3.7325826602774055 1380.6757546074552 4   6   0.7    16.0        \n",
      "C   Be  Be  1   3.00184e-05 0.0     57.004094 0.358304 -0.559996  1.0 1.0  1.3490983055329717 62.686906304413164 2.6   0.2  3.7325826602774055 1380.6757546074552 6   4   0.7    16.0        \n",
      "C   Be  C   1   0.00020813  0.0     330.0     3.5      -1.0       1.0 1.0  0.0                0.0                1.85  0.15 0.0                0.0                6   4   0.6    8.0         \n",
      "C   C   Be  1   3.00184e-05 0.0     57.004094 0.358304 -0.559996  1.0 1.0  0.0                0.0                2.6   0.2  0.0                0.0                6   6   0.7    16.0        \n",
      "C   C   C   1   0.00020813  0.0     330.0     3.5      -1.0       1.0 1.0  2.688774478590816  1397.072962447687  1.85  0.15 3.280304863880795  2605.8415729607395 6   6   0.6    8.0         \n"
     ]
    }
   ],
   "source": [
    "paramfile = Path('..', 'potentials', '2009--Bjorkas-C--Be-C', 'BeC.abop')\n",
    "tersoff = Tersoff.abop(paramfile)\n",
    "\n",
    "if tersoff.pair_style == 'tersoff':\n",
    "    outfile = paramfile.as_posix().replace('.abop', '_abop.tersoff')\n",
    "else:\n",
    "    outfile = paramfile.as_posix().replace('.abop', '_abop.tersoff.zbl')\n",
    "tersoff.save(outfile, headers=headers)\n",
    "\n",
    "print(str(tersoff))"
   ]
  },
  {
   "cell_type": "raw",
   "id": "5ea46ccf-662c-4d2b-8c13-05d318f13ce6",
   "metadata": {},
   "source": [
    "#e1  e2  e3  m      gamma      lambda3     c            d          h      n  beta   lambda2    B        Rcut      D      lambda1      A\n",
    "Be  Be  Be  1.0  8.195870e-07    0.000  89.389400   0.274430  -0.760693 1.0 1.0   1.337359   35.460    2.535    0.150   2.527369   222.6758\n",
    "Be  Be  C   1.0  3.001840e-05    0.000  57.004094   0.358304  -0.559996 1.0 0.0   0.000000    0.000    2.600    0.200   0.000000     0.0000\n",
    "Be  C   Be  1.0  8.195870e-07    0.000  89.389400   0.274430  -0.760693 1.0 0.0   0.000000    0.000    2.535    0.150   0.000000     0.0000\n",
    "Be  C   C   1.0  3.001840e-05    0.000  57.004094   0.358304  -0.559996 1.0 1.0   1.404991   69.029    2.600    0.200   3.887222  1802.5785\n",
    "C   Be  Be  1.0  3.001840e-05    0.000  57.004094   0.358304  -0.559996 1.0 1.0   1.404991   69.029    2.600    0.200   3.887222  1802.5785\n",
    "C   Be  C   1.0  2.081300e-04    0.000 330.000000   3.500000  -1.000000 1.0 0.0   0.000000    0.000    1.850    0.150   0.000000     0.0000\n",
    "C   C   Be  1.0  3.001840e-05    0.000  57.004094   0.358304  -0.559996 1.0 0.0   0.000000    0.000    2.600    0.200   0.000000     0.0000\n",
    "C   C   C   1.0  2.081300e-04    0.000 330.000000   3.500000  -1.000000 1.0 1.0   2.956372 2026.559    1.850    0.150   3.606773  4102.2960"
   ]
  },
  {
   "cell_type": "markdown",
   "id": "de3b82e9-eaf8-4159-a9c8-0121806d4fdb",
   "metadata": {},
   "source": [
    "Agreement between generated and ABOP_LAMMPS"
   ]
  },
  {
   "cell_type": "markdown",
   "id": "0ed53ce3-09cd-4c5d-baff-c3f6387b7eb5",
   "metadata": {},
   "source": [
    "## 2010--Ahlgren-T--W"
   ]
  },
  {
   "cell_type": "code",
   "execution_count": 36,
   "id": "ab779cb4-f0a7-4dd8-beec-1cdd1dd03600",
   "metadata": {},
   "outputs": [
    {
     "name": "stdout",
     "output_type": "stream",
     "text": [
      "#e1 e2  e3  m   gamma       lambda3 c        d        costheta0 n   beta lambda2           B                  Rcut D        lambda1           A                 Z_i Z_j ZBLcut ZBLexpscale \n",
      "W   W   W   1   0.001293884 0.0     1.327324 0.135096 0.352     1.0 1.0  1.304691973797844 148.32812362040556 4.4  0.840189 2.890383286144372 3313.945421370788 74  74  1.3    12.0        \n"
     ]
    }
   ],
   "source": [
    "paramfile = Path('..', 'potentials', '2010--Ahlgren-T--W', 'W.abop')\n",
    "tersoff = Tersoff.abop(paramfile)\n",
    "\n",
    "if tersoff.pair_style == 'tersoff':\n",
    "    outfile = paramfile.as_posix().replace('.abop', '_abop.tersoff')\n",
    "else:\n",
    "    outfile = paramfile.as_posix().replace('.abop', '_abop.tersoff.zbl')\n",
    "tersoff.save(outfile, headers=headers)\n",
    "\n",
    "print(str(tersoff))"
   ]
  },
  {
   "cell_type": "raw",
   "id": "3c04871e-c29b-4a12-b3a4-3fcb7add15ff",
   "metadata": {},
   "source": [
    "#e1  e2  e3  m      gamma      lambda3     c            d          h      n  beta   lambda2    B        Rcut      D        lambda1      A\n",
    "W   W   W   1.0  1.293884e-03    0.000   1.327324   0.135096   0.352000 1.0 1.0   1.304692  148.328    4.400    0.840189   2.890383  3313.9454"
   ]
  },
  {
   "cell_type": "markdown",
   "id": "8e293556-d510-42c9-9f78-d13be81ada55",
   "metadata": {},
   "source": [
    "Agreement between generated and ABOP_LAMMPS"
   ]
  },
  {
   "cell_type": "markdown",
   "id": "9f6fd56c-2d3d-43f6-a257-cdcf68cfd27e",
   "metadata": {},
   "source": [
    "## 2010--Bjorkas-C--Be-W"
   ]
  },
  {
   "cell_type": "code",
   "execution_count": 37,
   "id": "863d0a36-eb7c-4268-b06e-fe24dbe8a49e",
   "metadata": {},
   "outputs": [
    {
     "name": "stdout",
     "output_type": "stream",
     "text": [
      "#e1 e2  e3  m   gamma         lambda3  c             d             costheta0  n   beta lambda2            B                 Rcut  D    lambda1           A                  Z_i Z_j ZBLcut ZBLexpscale \n",
      "Be  Be  Be  1   8.19587e-07   0.0      89.3894       0.27443       -0.7606934 1.0 1.0  1.3373593849680525 35.46007946735899 2.535 0.15 2.527368512900325 222.6758063238057  4   4   0.8    15.0        \n",
      "Be  Be  W   1   0.21714959767 1.2      34.3953715887 554.148353798 0.866      1.0 1.0  0.0                0.0               3.3   0.2  0.0               0.0                4   4   1.3    13.0        \n",
      "Be  W   Be  1   8.19587e-07   0.0      89.3894       0.27443       -0.7606934 1.0 1.0  0.0                0.0               2.535 0.15 0.0               0.0                4   74  0.8    15.0        \n",
      "Be  W   W   1   0.21714959767 1.2      34.3953715887 554.148353798 0.866      1.0 1.0  0.8518536153745563 38.98590465397524 3.3   0.2  1.953174674284813 164.96942083036618 4   74  1.3    13.0        \n",
      "W   Be  Be  1   0.21714959767 1.2      34.3953715887 554.148353798 0.866      1.0 1.0  0.8518536153745563 38.98590465397524 3.3   0.2  1.953174674284813 164.96942083036618 74  4   1.3    13.0        \n",
      "W   Be  W   1   0.00188227    0.458764 2.14969       0.17126       0.2778     1.0 1.0  0.0                0.0               3.1   0.1  0.0               0.0                74  4   1.3    12.0        \n",
      "W   W   Be  1   0.21714959767 1.2      34.3953715887 554.148353798 0.866      1.0 1.0  0.0                0.0               3.3   0.2  0.0               0.0                74  74  1.3    13.0        \n",
      "W   W   W   1   0.00188227    0.458764 2.14969       0.17126       0.2778     1.0 1.0  1.41124588921832   306.4996797421533 3.1   0.1  2.71958372819484  3401.474424137676  74  74  1.3    12.0        \n"
     ]
    }
   ],
   "source": [
    "paramfile = Path('..', 'potentials', '2010--Bjorkas-C--Be-W', 'BeW.abop')\n",
    "tersoff = Tersoff.abop(paramfile)\n",
    "\n",
    "if tersoff.pair_style == 'tersoff':\n",
    "    outfile = paramfile.as_posix().replace('.abop', '_abop.tersoff')\n",
    "else:\n",
    "    outfile = paramfile.as_posix().replace('.abop', '_abop.tersoff.zbl')\n",
    "tersoff.save(outfile, headers=headers)\n",
    "\n",
    "print(str(tersoff))"
   ]
  },
  {
   "cell_type": "raw",
   "id": "c53b23f2-79bf-4bb6-a54a-22b8a8f78f83",
   "metadata": {},
   "source": [
    "#e1  e2  e3  m      gamma      lambda3     c            d          h      n  beta   lambda2    B        Rcut      D      lambda1      A\n",
    "Be  Be  Be  1.0  8.195870e-07    0.000  89.389400   0.274430  -0.760693 1.0 1.0   1.337359   35.460    2.535    0.150   2.527369   222.6758\n",
    "Be  Be  W   1.0  2.171496e-01    1.200  34.395372 554.148354   0.866000 1.0 0.0   0.000000    0.000    3.300    0.200   0.000000     0.0000\n",
    "Be  W   Be  1.0  8.195870e-07    0.000  89.389400   0.274430  -0.760693 1.0 0.0   0.000000    0.000    2.535    0.150   0.000000     0.0000\n",
    "Be  W   W   1.0  2.171496e-01    1.200  34.395372 554.148354   0.866000 1.0 1.0   0.851854   38.986    3.300    0.200   1.953175   164.9694\n",
    "W   Be  Be  1.0  2.171496e-01    1.200  34.395372 554.148354   0.866000 1.0 1.0   0.851854   38.986    3.300    0.200   1.953175   164.9694\n",
    "W   Be  W   1.0  1.882270e-03    0.459   2.149690   0.171260   0.277800 1.0 0.0   0.000000    0.000    3.100    0.100   0.000000     0.0000\n",
    "W   W   Be  1.0  2.171496e-01    1.200  34.395372 554.148354   0.866000 1.0 0.0   0.000000    0.000    3.300    0.200   0.000000     0.0000\n",
    "W   W   W   1.0  1.882270e-03    0.459   2.149690   0.171260   0.277800 1.0 1.0   1.411246  306.500    3.100    0.100   2.719584  3401.4744"
   ]
  },
  {
   "cell_type": "markdown",
   "id": "f797cce0-36af-4a91-a7e7-40169edadce7",
   "metadata": {},
   "source": [
    "Agreement between generated and ABOP_LAMMPS"
   ]
  },
  {
   "cell_type": "markdown",
   "id": "17c8e230-cea2-4d1e-a843-290f6455016c",
   "metadata": {},
   "source": [
    "## 2012--Backman-M--Au"
   ]
  },
  {
   "cell_type": "code",
   "execution_count": 38,
   "id": "5131c3cb-d3c6-4908-8ed7-4040652a233e",
   "metadata": {},
   "outputs": [
    {
     "name": "stdout",
     "output_type": "stream",
     "text": [
      "#e1 e2  e3  m   gamma        lambda3 c        d         costheta0  n   beta lambda2           B                  Rcut D   lambda1           A                 Z_i Z_j ZBLcut ZBLexpscale \n",
      "Au  Au  Au  1   0.0006374494 2.05    3.351525 0.1649262 -0.9941884 1.0 1.0  1.606636063165073 247.28791308922268 3.2  0.2 3.132940323171892 5445.221041183282 79  79  1.7    12.0        \n"
     ]
    }
   ],
   "source": [
    "paramfile = Path('..', 'potentials', '2012--Backman-M--Au', 'Au.abop')\n",
    "tersoff = Tersoff.abop(paramfile)\n",
    "\n",
    "if tersoff.pair_style == 'tersoff':\n",
    "    outfile = paramfile.as_posix().replace('.abop', '_abop.tersoff')\n",
    "else:\n",
    "    outfile = paramfile.as_posix().replace('.abop', '_abop.tersoff.zbl')\n",
    "tersoff.save(outfile, headers=headers)\n",
    "\n",
    "print(str(tersoff))"
   ]
  },
  {
   "cell_type": "raw",
   "id": "509b954e-afa7-48b8-836f-b1ce1d90d291",
   "metadata": {},
   "source": [
    "#e1  e2  e3  m      gamma      lambda3     c            d          h        n   beta   lambda2    B        Rcut      D      lambda1      A\n",
    "Au  Au  Au  1.0  6.374494e-04    2.050   3.351525   0.1649262  -0.9941884  1.0  1.0   1.606636  247.287913 3.200    0.200   3.132940  5445.221041183282"
   ]
  },
  {
   "cell_type": "markdown",
   "id": "c530588b-0dc3-4b0b-a707-6325996686fc",
   "metadata": {},
   "source": [
    "Agreement between generated and ABOP_LAMMPS"
   ]
  },
  {
   "cell_type": "markdown",
   "id": "13118ae7-8d8f-4695-a663-6ed38f8ca7da",
   "metadata": {},
   "source": [
    "## 2016--Polvi-J--W-N"
   ]
  },
  {
   "cell_type": "code",
   "execution_count": 39,
   "id": "484e8ddc-fbbb-4c26-a6a1-a1aff716cf2c",
   "metadata": {},
   "outputs": [
    {
     "name": "stdout",
     "output_type": "stream",
     "text": [
      "#e1 e2  e3  m   gamma    lambda3 c        d        costheta0 n   beta lambda2            B                  Rcut D        lambda1           A                  Z_i Z_j ZBLcut ZBLexpscale \n",
      "W   W   W   1   0.001294 0.0     1.327324 0.135096 0.352     1.0 1.0  1.304691973797844  148.32812362040556 4.4  0.840189 2.890383286144372 3313.945421370788  74  74  1.3    12.0        \n",
      "W   W   N   1   9.1e-05  0.0     72.0     0.710885 -1.0      1.0 1.0  0.0                0.0                2.83 0.82     0.0               0.0                74  74  0.4    12.0        \n",
      "W   N   W   1   0.001294 0.0     1.327324 0.135096 0.352     1.0 1.0  0.0                0.0                4.4  0.840189 0.0               0.0                74  7   1.3    12.0        \n",
      "W   N   N   1   9.1e-05  0.0     72.0     0.710885 -1.0      1.0 1.0  1.058341967087314  91.75542162348067  2.83 0.82     2.413019684959076 448.66543272814783 74  7   0.4    12.0        \n",
      "N   W   W   1   9.1e-05  0.0     72.0     0.710885 -1.0      1.0 1.0  1.058341967087314  91.75542162348067  2.83 0.82     2.413019684959076 448.66543272814783 7   74  0.4    12.0        \n",
      "N   W   N   1   0.76612  0.0     0.178493 0.20172  -0.045234 1.0 1.0  0.0                0.0                2.3  0.2      0.0               0.0                7   74  0.5    12.0        \n",
      "N   N   W   1   9.1e-05  0.0     72.0     0.710885 -1.0      1.0 1.0  0.0                0.0                2.83 0.82     0.0               0.0                7   7   0.4    12.0        \n",
      "N   N   N   1   0.76612  0.0     0.178493 0.20172  -0.045234 1.0 1.0  2.3842551670030017 423.7693264497686  2.3  0.2      3.557785560201879 1044.7746144569705 7   7   0.5    12.0        \n"
     ]
    }
   ],
   "source": [
    "paramfile = Path('..', 'potentials', '2016--Polvi-J--W-N', 'WN.abop')\n",
    "tersoff = Tersoff.abop(paramfile)\n",
    "\n",
    "if tersoff.pair_style == 'tersoff':\n",
    "    outfile = paramfile.as_posix().replace('.abop', '_abop.tersoff')\n",
    "else:\n",
    "    outfile = paramfile.as_posix().replace('.abop', '_abop.tersoff.zbl')\n",
    "tersoff.save(outfile, headers=headers)\n",
    "\n",
    "print(str(tersoff))"
   ]
  },
  {
   "cell_type": "raw",
   "id": "c0e87baa-2ffd-4cd8-aa2f-4168b4100c59",
   "metadata": {},
   "source": [
    "#e1  e2  e3  m      gamma      lambda3     c            d          h      n  beta   lambda2    B        Rcut      D        lambda1      A\n",
    "W   W   W   1.0  1.294000e-03    0.000   1.327324   0.135096   0.352000 1.0 1.0   1.304692  148.328    4.400    0.840189   2.890383  3313.9454\n",
    "W   W   N   1.0  9.100000e-05    0.000  72.000000   0.710885  -1.000000 1.0 0.0   0.000000    0.000    2.830    0.820      0.000000     0.0000\n",
    "W   N   W   1.0  1.294000e-03    0.000   1.327324   0.135096   0.352000 1.0 0.0   0.000000    0.000    4.400    0.840189   0.000000     0.0000\n",
    "W   N   N   1.0  9.100000e-05    0.000  72.000000   0.710885  -1.000000 1.0 1.0   1.058342   91.755    2.830    0.820      2.413020   448.6654\n",
    "N   W   W   1.0  9.100000e-05    0.000  72.000000   0.710885  -1.000000 1.0 1.0   1.058342   91.755    2.830    0.820      2.413020   448.6654\n",
    "N   W   N   1.0  7.661200e-01    0.000   0.178493   0.201720  -0.045234 1.0 0.0   0.000000    0.000    2.300    0.200      0.000000     0.0000\n",
    "N   N   W   1.0  9.100000e-05    0.000  72.000000   0.710885  -1.000000 1.0 0.0   0.000000    0.000    2.830    0.820      0.000000     0.0000\n",
    "N   N   N   1.0  7.661200e-01    0.000   0.178493   0.201720  -0.045234 1.0 1.0   2.384255  423.769    2.300    0.200      3.557786  1044.7746"
   ]
  },
  {
   "cell_type": "markdown",
   "id": "7132e2b1-f907-406b-ac27-f0b29551b5d9",
   "metadata": {},
   "source": [
    "Agreement between generated and ABOP_LAMMPS"
   ]
  },
  {
   "cell_type": "markdown",
   "id": "410a19e1-b1f7-4972-8d12-0edddc65585f",
   "metadata": {},
   "source": [
    "## 2016--Sun-Q-Q--Mo-Er"
   ]
  },
  {
   "cell_type": "code",
   "execution_count": 40,
   "id": "5e121903-2f01-4883-a74b-e28f500a41ca",
   "metadata": {},
   "outputs": [
    {
     "name": "stdout",
     "output_type": "stream",
     "text": [
      "#e1 e2  e3  m   gamma       lambda3  c           d           costheta0    n   beta lambda2            B                  Rcut        D           lambda1            A                 \n",
      "Mo  Mo  Mo  1   0.00124572  2.09348  7.58380771  0.28598932  -0.18562373  1.0 1.0  0.4918848972605922 13.49671512792516  3.46519491  0.36911573  4.22401184041877   24161.62003452773 \n",
      "Mo  Mo  Er  1   0.001615438 0.51     0.632119045 0.074885789 -0.176604313 1.0 1.0  0.0                0.0                4.205706563 0.158308622 0.0                0.0               \n",
      "Mo  Er  Mo  1   0.00124572  0.0      7.58380771  0.28598932  -0.18562373  1.0 1.0  0.0                0.0                3.46519491  0.36911573  0.0                0.0               \n",
      "Mo  Er  Er  1   0.001615438 0.0      0.632119045 0.074885789 -0.176604313 1.0 1.0  1.1056238843442283 91.41983531886919  4.205706563 0.158308622 1.902634987118939  390.217768359927  \n",
      "Er  Mo  Mo  1   0.001615438 0.0      0.632119045 0.074885789 -0.176604313 1.0 1.0  1.1056238843442283 91.41983531886919  4.205706563 0.158308622 1.902634987118939  390.217768359927  \n",
      "Er  Mo  Er  1   0.15117193  2.0      0.07374128  0.12700462  0.47287919   1.0 1.0  0.0                0.0                5.60136862  0.17100708  0.0                0.0               \n",
      "Er  Er  Mo  1   0.001615438 0.0      0.632119045 0.074885789 -0.176604313 1.0 1.0  0.0                0.0                4.205706563 0.158308622 0.0                0.0               \n",
      "Er  Er  Er  1   0.15117193  1.488349 0.07374128  0.12700462  0.47287919   1.0 1.0  0.7917702099624266 23.526654098310992 5.60136862  0.17100708  2.2628242320430227 892.918468990272  \n"
     ]
    }
   ],
   "source": [
    "paramfile = Path('..', 'potentials', '2016--Sun-Q-Q--Mo-Er', 'MoEr.abop')\n",
    "tersoff = Tersoff.abop(paramfile)\n",
    "\n",
    "if tersoff.pair_style == 'tersoff':\n",
    "    outfile = paramfile.as_posix().replace('.abop', '_abop.tersoff')\n",
    "else:\n",
    "    outfile = paramfile.as_posix().replace('.abop', '_abop.tersoff.zbl')\n",
    "tersoff.save(outfile, headers=headers)\n",
    "\n",
    "print(str(tersoff))"
   ]
  },
  {
   "cell_type": "raw",
   "id": "7305e5e1-7ad3-4c99-96c3-f7e30136324e",
   "metadata": {},
   "source": [
    "#e1  e2  e3  m      gamma      lambda3     c            d          h      n  beta   lambda2    B        Rcut      D      lambda1      A\n",
    "Mo  Mo  Mo  1.0  1.245720e-03  2.09348  7.583808   0.285989  -0.185624 1.0 1.0   0.491885   13.497    3.465    0.369   4.224012 24161.6200\n",
    "Mo  Mo  Er  1.0  1.511719e-01  0.510    0.073741   0.127005   0.472879 1.0 0.0   0.000000    0.000    5.601    0.171   0.000000     0.0000\n",
    "Mo  Er  Mo  1.0  1.245720e-03  0.000    7.583808   0.285989  -0.185624 1.0 0.0   0.000000    0.000    3.465    0.369   0.000000     0.0000\n",
    "Mo  Er  Er  1.0  1.511719e-01  0.000    0.073741   0.127005   0.472879 1.0 1.0   0.791770   23.527    5.601    0.171   2.262824   892.9185\n",
    "Er  Mo  Mo  1.0  1.511719e-01  0.000    0.073741   0.127005   0.472879 1.0 1.0   0.791770   23.527    5.601    0.171   2.262824   892.9185\n",
    "Er  Mo  Er  1.0  1.615438e-03  2.000    0.632119   0.074886  -0.176604 1.0 0.0   0.000000    0.000    4.206    0.158   0.000000     0.0000\n",
    "Er  Er  Mo  1.0  1.511719e-01  0.000    0.073741   0.127005   0.472879 1.0 0.0   0.000000    0.000    5.601    0.171   0.000000     0.0000\n",
    "Er  Er  Er  1.0  1.615438e-03  1.488349 0.632119   0.074886  -0.176604 1.0 1.0   1.105624   91.420    4.206    0.158   1.902635   390.2178"
   ]
  },
  {
   "cell_type": "markdown",
   "id": "12b9bd5b-c02d-4052-9a5b-294647fea69c",
   "metadata": {},
   "source": [
    "__MISMATCH WITH REFERENCE PARAMETER FILE!__ Can reproduce by swapping Mo-Er and Er-Er parameters..."
   ]
  },
  {
   "cell_type": "markdown",
   "id": "abc28df0-1255-4625-a384-2be9d443aa2c",
   "metadata": {},
   "source": [
    "## 2018--Byggmastar-J--Be-O"
   ]
  },
  {
   "cell_type": "code",
   "execution_count": 41,
   "id": "328cbfda-f861-4915-b5c5-fcea79a9e7b1",
   "metadata": {},
   "outputs": [
    {
     "name": "stdout",
     "output_type": "stream",
     "text": [
      "#e1 e2  e3  m   gamma       lambda3 c        d        costheta0  n   beta lambda2            B                 Rcut  D    lambda1            A                 Z_i Z_j ZBLcut ZBLexpscale \n",
      "Be  Be  Be  1   8.19587e-07 0.0     89.3894  0.27443  -0.7606934 1.0 1.0  1.3373593849680525 35.46007946735899 2.535 0.15 2.527368512900325  222.6758063238057 4   4   0.8    15.0        \n",
      "Be  Be  O   1   0.3940568   0.0     1.4      0.821    -0.488     1.0 1.0  0.0                0.0               2.5   0.2  0.0                0.0               4   4   0.8    15.0        \n",
      "Be  O   Be  1   8.19587e-07 0.0     89.3894  0.27443  -0.7606934 1.0 1.0  0.0                0.0               2.535 0.15 0.0                0.0               4   8   0.8    15.0        \n",
      "Be  O   O   1   0.3940568   0.0     1.4      0.821    -0.488     1.0 1.0  1.7065126429206154 161.1762735315594 2.5   0.2  3.2003938105333227 706.306379772834  4   8   0.8    15.0        \n",
      "O   Be  Be  1   0.3940568   0.0     1.4      0.821    -0.488     1.0 1.0  1.7065126429206154 161.1762735315594 2.5   0.2  3.2003938105333227 706.306379772834  8   4   0.8    15.0        \n",
      "O   Be  O   1   0.82595     0.0     0.035608 0.046496 -0.45056   1.0 1.0  0.0                0.0               2.1   0.2  0.0                0.0               8   4   0.5    12.0        \n",
      "O   O   Be  1   0.3940568   0.0     1.4      0.821    -0.488     1.0 1.0  0.0                0.0               2.5   0.2  0.0                0.0               8   8   0.8    15.0        \n",
      "O   O   O   1   0.82595     0.0     0.035608 0.046496 -0.45056   1.0 1.0  2.7732859784544366 527.6505089731846 2.1   0.2  3.8448836805292306 1388.081581389159 8   8   0.5    12.0        \n"
     ]
    }
   ],
   "source": [
    "paramfile = Path('..', 'potentials', '2018--Byggmastar-J--Be-O', 'BeO.abop')\n",
    "tersoff = Tersoff.abop(paramfile)\n",
    "\n",
    "if tersoff.pair_style == 'tersoff':\n",
    "    outfile = paramfile.as_posix().replace('.abop', '_abop.tersoff')\n",
    "else:\n",
    "    outfile = paramfile.as_posix().replace('.abop', '_abop.tersoff.zbl')\n",
    "tersoff.save(outfile, headers=headers)\n",
    "\n",
    "print(str(tersoff))"
   ]
  },
  {
   "cell_type": "raw",
   "id": "838a2200-44cc-4044-b244-69ede8f63670",
   "metadata": {},
   "source": [
    "#e1  e2  e3  m      gamma      lambda3     c            d          h      n  beta   lambda2    B        Rcut      D      lambda1      A\n",
    "Be  Be  Be  1.0  8.195870e-07    0.000  89.389400   0.274430  -0.760693 1.0 1.0   1.337359   35.460    2.535    0.150   2.527369   222.6758\n",
    "Be  Be  O   1.0  3.940568e-01    0.000   1.400000   0.821000  -0.488000 1.0 0.0   0.000000    0.000    2.500    0.200   0.000000     0.0000\n",
    "Be  O   Be  1.0  8.195870e-07    0.000  89.389400   0.274430  -0.760693 1.0 0.0   0.000000    0.000    2.535    0.150   0.000000     0.0000\n",
    "Be  O   O   1.0  3.940568e-01    0.000   1.400000   0.821000  -0.488000 1.0 1.0   1.706513  161.176    2.500    0.200   3.200394   706.3064\n",
    "O   Be  Be  1.0  3.940568e-01    0.000   1.400000   0.821000  -0.488000 1.0 1.0   1.706513  161.176    2.500    0.200   3.200394   706.3064\n",
    "O   Be  O   1.0  8.259500e-01    0.000   0.035608   0.046496  -0.450560 1.0 0.0   0.000000    0.000    2.100    0.200   0.000000     0.0000\n",
    "O   O   Be  1.0  3.940568e-01    0.000   1.400000   0.821000  -0.488000 1.0 0.0   0.000000    0.000    2.500    0.200   0.000000     0.0000\n",
    "O   O   O   1.0  8.259500e-01    0.000   0.035608   0.046496  -0.450560 1.0 1.0   2.773286  527.651    2.100    0.200   3.844884  1388.0816"
   ]
  },
  {
   "cell_type": "raw",
   "id": "f03525a1-8a92-44d5-87a3-357a6cbd9073",
   "metadata": {},
   "source": [
    "# s1  s2  s3   m          gamma        lambda3              c              d      costheta0   n beta        lambda2              B      R      D        lambda1              A Z_i Z_j ZBLcut ZBLexpscale\n",
    "\n",
    "Be   Be  Be  1.0    8.19587e-07            0.0        89.3894        0.27443     -0.7606934 1.0  1.0  1.33735938497  35.4600794674  2.535   0.15   2.5273685129  222.675806324   4   4    0.8   15.0\n",
    "Be   Be  O   1.0      0.3940568            0.0            1.4          0.821         -0.488 1.0  1.0  1.70651264292  161.176273532    2.5    0.2  3.20039381053  706.306379773   4   4    0.8   15.0\n",
    "Be   O   Be  1.0    8.19587e-07            0.0        89.3894        0.27443     -0.7606934 1.0  1.0  1.33735938497  35.4600794674  2.535   0.15   2.5273685129  222.675806324   4   8    0.8   15.0\n",
    "Be   O   O   1.0      0.3940568            0.0            1.4          0.821         -0.488 1.0  1.0  1.70651264292  161.176273532    2.5    0.2  3.20039381053  706.306379773   4   8    0.8   15.0\n",
    "O    Be  Be  1.0      0.3940568            0.0            1.4          0.821         -0.488 1.0  1.0  1.70651264292  161.176273532    2.5    0.2  3.20039381053  706.306379773   8   4    0.8   15.0\n",
    "O    Be  O   1.0        0.82595            0.0       0.035608       0.046496       -0.45056 1.0  1.0  2.77328597845  527.650508973    2.1    0.2  3.84488368053  1388.08158139   8   4    0.5   12.0\n",
    "O    O   Be  1.0      0.3940568            0.0            1.4          0.821         -0.488 1.0  1.0  1.70651264292  161.176273532    2.5    0.2  3.20039381053  706.306379773   8   8    0.8   15.0\n",
    "O    O   O   1.0        0.82595            0.0       0.035608       0.046496       -0.45056 1.0  1.0  2.77328597845  527.650508973    2.1    0.2  3.84488368053  1388.08158139   8   8    0.5   12.0"
   ]
  },
  {
   "cell_type": "markdown",
   "id": "98b170ec-86ea-4ed8-8204-27bee2650719",
   "metadata": {},
   "source": [
    "Agreement between generated here, ABOP_LAMMPS and official file from developers.  Note official file (last) does not zero out the ignored binary terms"
   ]
  },
  {
   "cell_type": "markdown",
   "id": "8de63cb1-6ebc-4e07-a6af-d876a680f13c",
   "metadata": {},
   "source": [
    "## 2019--Byggmastar-J--Fe-O"
   ]
  },
  {
   "cell_type": "code",
   "execution_count": 42,
   "id": "987e385b-4339-4d00-8d2c-2f7b11ccd60f",
   "metadata": {},
   "outputs": [
    {
     "name": "stdout",
     "output_type": "stream",
     "text": [
      "#e1 e2  e3  m   gamma               lambda3      c             d            costheta0     n   beta lambda2            B                  Rcut D    lambda1            A                  Z_i Z_j ZBLcut ZBLexpscale \n",
      "Fe  Fe  Fe  1   0.0115751           0.0          1.2898716     0.3413219    0.26          1.0 1.0  1.3763540363137268 67.8647722798559   3.15 0.2  2.848104409602991  953.9485925552151  26  26  0.95   2.9         \n",
      "Fe  Fe  O   1   1.0805255411108794  1.0854004606 19.8656293772 4.5750149838 -0.0904310711 1.0 1.0  0.0                0.0                3.15 0.15 0.0                0.0                26  26  1.0    10.0        \n",
      "Fe  O   Fe  1   0.00791968694577546 0.3316469057 1.2898716     0.3413219    0.26          1.0 1.0  0.0                0.0                3.15 0.2  0.0                0.0                26  8   0.95   2.9         \n",
      "Fe  O   O   1   1.2903719086138115  3.480349174  19.8656293772 4.5750149838 -0.0904310711 1.0 1.0  1.0123921437646362 59.154098776288386 3.15 0.15 2.909131593604517  393.51377536401804 26  8   1.0    10.0        \n",
      "O   Fe  Fe  1   1.1535636468724213  1.0361635661 19.8656293772 4.5750149838 -0.0904310711 1.0 1.0  1.0123921437646362 59.154098776288386 3.15 0.15 2.909131593604517  393.51377536401804 8   26  1.0    10.0        \n",
      "O   Fe  O   1   0.82595             0.7546312148 0.035608      0.046496     -0.45056      1.0 1.0  0.0                0.0                2.1  0.2  0.0                0.0                8   26  0.5    12.0        \n",
      "O   O   Fe  1   1.1742630926        0.001        19.8656293772 4.5750149838 -0.0904310711 1.0 1.0  0.0                0.0                3.15 0.15 0.0                0.0                8   8   1.0    10.0        \n",
      "O   O   O   1   0.82595             0.0          0.035608      0.046496     -0.45056      1.0 1.0  2.7732859784544366 527.6505089731846  2.1  0.2  3.8448836805292306 1388.081581389159  8   8   0.5    12.0        \n"
     ]
    }
   ],
   "source": [
    "paramfile = Path('..', 'potentials', '2019--Byggmastar-J--Fe-O', 'FeO.abop')\n",
    "tersoff = Tersoff.abop(paramfile)\n",
    "\n",
    "if tersoff.pair_style == 'tersoff':\n",
    "    outfile = paramfile.as_posix().replace('.abop', '_abop.tersoff')\n",
    "else:\n",
    "    outfile = paramfile.as_posix().replace('.abop', '_abop.tersoff.zbl')\n",
    "tersoff.save(outfile, headers=headers)\n",
    "\n",
    "print(str(tersoff))"
   ]
  },
  {
   "cell_type": "raw",
   "id": "dd118d91-77fe-4221-b722-8e589fccae9d",
   "metadata": {},
   "source": [
    "#e1  e2  e3  m      gamma      lambda3           c            d         h     n  beta   lambda2    B        Rcut      D      lambda1      A\n",
    "Fe  Fe  Fe  1.0  1.157510e-02   0.0000000000   1.289872   0.341322   0.260000 1.0 1.0   1.376687   67.947    3.150    0.200   2.847416   953.3378\n",
    "Fe  Fe  O   1.0  1.0805255411   1.0854004606  19.865629   4.575015  -0.090431 1.0 0.0   0.000000    0.000    3.150    0.150   0.000000     0.0000\n",
    "Fe  O   Fe  1.0  0.8034311656   0.3316469057   1.289872   0.341322   0.260000 1.0 0.0   0.000000    0.000    3.150    0.200   0.000000     0.0000\n",
    "Fe  O   O   1.0  1.2903719086   3.4803491740  19.865629   4.575015  -0.090431 1.0 1.0   1.012392   59.154    3.150    0.150   2.909132   393.5138\n",
    "O   Fe  Fe  1.0  1.1535636469   1.0361635661  19.865629   4.575015  -0.090431 1.0 1.0   1.012392   59.154    3.150    0.150   2.909132   393.5138\n",
    "O   Fe  O   1.0  1.1742630926   0.7546312148   0.035608   0.046496  -0.450560 1.0 0.0   0.000000    0.000    2.100    0.200   0.000000     0.0000\n",
    "O   O   Fe  1.0  1.1742630926   0.0010000000  19.865629   4.575015  -0.090431 1.0 0.0   0.000000    0.000    3.150    0.150   0.000000     0.0000\n",
    "O   O   O   1.0  8.259500e-01   0.0000000000   0.035608   0.046496  -0.450560 1.0 1.0   2.773286  527.651    2.100    0.200   3.844884  1388.0816"
   ]
  },
  {
   "cell_type": "raw",
   "id": "e4548e1b-ea9d-4059-bde5-22c47524cae7",
   "metadata": {},
   "source": [
    "Fe   Fe  Fe  1.0      0.0115751            0.0      1.2898716      0.3413219           0.26 1.0  1.0  1.37635403631  67.8647722799   3.15    0.2   2.8481044096  953.948592555  26  26   0.95    2.9\n",
    "Fe   Fe  O   1.0  1.08052554111   1.0854004606  19.8656293772   4.5750149838  -0.0904310711   0    0              0              0   3.15   0.15              0              0  99  99      0      0\n",
    "Fe   O   Fe  1.0 0.00791968694578   0.3316469057      1.2898716      0.3413219           0.26   0    0              0              0   3.15    0.2              0              0  99  99      0      0\n",
    "Fe   O   O   1.0  1.29037190861    3.480349174  19.8656293772   4.5750149838  -0.0904310711 1.0  1.0  1.01239214376  59.1540987763   3.15   0.15   2.9091315936  393.513775364  26   8    1.0   10.0\n",
    "O    Fe  Fe  1.0  1.15356364687   1.0361635661  19.8656293772   4.5750149838  -0.0904310711 1.0  1.0  1.01239214376  59.1540987763   3.15   0.15   2.9091315936  393.513775364   8  26    1.0   10.0\n",
    "O    Fe  O   1.0        0.82595   0.7546312148       0.035608       0.046496       -0.45056   0    0              0              0    2.1    0.2              0              0  99  99      0      0\n",
    "O    O   Fe  1.0   1.1742630926          0.001  19.8656293772   4.5750149838  -0.0904310711   0    0              0              0   3.15   0.15              0              0  99  99      0      0\n",
    "O    O   O   1.0        0.82595            0.0       0.035608       0.046496       -0.45056 1.0  1.0  2.77328597845  527.650508973    2.1    0.2  3.84488368053  1388.08158139   8   8    0.5   12.0"
   ]
  },
  {
   "cell_type": "markdown",
   "id": "a4549b54-5663-45d1-ab93-0a625107ed07",
   "metadata": {},
   "source": [
    "__MISMATCH WITH REFERENCE PARAMETER FILE!__ Everything agrees except with gamma values for Fe-O-Fe and O-Fe-O. "
   ]
  },
  {
   "cell_type": "markdown",
   "id": "534b938a-a121-47da-8e61-2ac256631a9f",
   "metadata": {},
   "source": [
    "## 2020--Chen-N"
   ]
  },
  {
   "cell_type": "code",
   "execution_count": 43,
   "id": "a5c1ee25-824a-447d-b16d-fbefdb212609",
   "metadata": {},
   "outputs": [
    {
     "name": "stdout",
     "output_type": "stream",
     "text": [
      "#e1 e2  e3  m   gamma    lambda3 c        d         costheta0 n   beta lambda2            B                  Rcut   D      lambda1           A                  \n",
      "Si  Si  Si  1   0.114354 0.0     2.00494  0.81472   -0.259    1.0 1.0  1.5381049333846057 219.52162426831347 2.82   0.14   2.833189287294444 2145.7127998557976 \n",
      "Si  Si  C   1   0.011877 0.0     273987.0 180.314   -0.68     1.0 1.0  0.0                0.0                2.4    0.2    0.0               0.0                \n",
      "Si  Si  Ag  1   1.8096   5.6133  212.4988 1168.7316 -0.546    1.0 1.0  0.0                0.0                2.7376 0.658  0.0               0.0                \n",
      "Si  C   Si  1   0.114354 0.0     2.00494  0.81472   -0.259    1.0 1.0  0.0                0.0                2.82   0.14   0.0               0.0                \n",
      "Si  C   C   1   0.011877 0.0     273987.0 180.314   -0.68     1.0 1.0  1.7680742125893942 225.1894805180968  2.4    0.2    3.265633070652611 1779.3614414399558 \n",
      "Si  C   Ag  1   1.8096   1.8873  212.4988 1168.7316 -0.546    1.0 1.0  0.0                0.0                2.7376 0.658  0.0               0.0                \n",
      "Si  Ag  Si  1   0.114354 0.8675  2.00494  0.81472   -0.259    1.0 1.0  0.0                0.0                2.82   0.14   0.0               0.0                \n",
      "Si  Ag  C   1   0.011877 5.5075  273987.0 180.314   -0.68     1.0 1.0  0.0                0.0                2.4    0.2    0.0               0.0                \n",
      "Si  Ag  Ag  1   1.8096   0.0     212.4988 1168.7316 -0.546    1.0 1.0  1.2084478042253692 59.93899050347431  2.7376 0.658  2.69423437952046  921.1674406948916  \n",
      "C   Si  Si  1   0.011877 0.0     273987.0 180.314   -0.68     1.0 1.0  1.7680742125893942 225.1894805180968  2.4    0.2    3.265633070652611 1779.3614414399558 \n",
      "C   Si  C   1   0.11233  0.0     181.91   6.28433   -0.5556   1.0 1.0  0.0                0.0                2.0    0.15   0.0               0.0                \n",
      "C   Si  Ag  1   0.9386   1.7257  3.5817   1.3679    -1.1155   1.0 1.0  0.0                0.0                3.7047 0.465  0.0               0.0                \n",
      "C   C   Si  1   0.011877 0.0     273987.0 180.314   -0.68     1.0 1.0  0.0                0.0                2.4    0.2    0.0               0.0                \n",
      "C   C   C   1   0.11233  0.0     181.91   6.28433   -0.5556   1.0 1.0  1.930900932868363  175.42665059955047 2.0    0.15   4.184262321525742 2019.8449017464711 \n",
      "C   C   Ag  1   0.9386   1.8583  3.5817   1.3679    -1.1155   1.0 1.0  0.0                0.0                3.7047 0.465  0.0               0.0                \n",
      "C   Ag  Si  1   0.011877 2.1706  273987.0 180.314   -0.68     1.0 1.0  0.0                0.0                2.4    0.2    0.0               0.0                \n",
      "C   Ag  C   1   0.11233  0.7255  181.91   6.28433   -0.5556   1.0 1.0  0.0                0.0                2.0    0.15   0.0               0.0                \n",
      "C   Ag  Ag  1   0.9386   0.0     3.5817   1.3679    -1.1155   1.0 1.0  0.9372848159703082 17.89321198810248  3.7047 0.465  3.657941451287322 964.4555508625496  \n",
      "Ag  Si  Si  1   1.8096   0.336   212.4988 1168.7316 -0.546    1.0 1.0  1.2084478042253692 59.93899050347431  2.7376 0.658  2.69423437952046  921.1674406948916  \n",
      "Ag  Si  C   1   0.9386   0.6459  3.5817   1.3679    -1.1155   1.0 1.0  0.0                0.0                3.7047 0.465  0.0               0.0                \n",
      "Ag  Si  Ag  1   0.0363   1.342   1.2181   0.2704    0.1474    1.0 1.0  0.0                0.0                3.7982 0.2589 0.0               0.0                \n",
      "Ag  C   Si  1   1.8096   1.1482  212.4988 1168.7316 -0.546    1.0 1.0  0.0                0.0                2.7376 0.658  0.0               0.0                \n",
      "Ag  C   C   1   0.9386   -0.6508 3.5817   1.3679    -1.1155   1.0 1.0  0.9372848159703082 17.89321198810248  3.7047 0.465  3.657941451287322 964.4555508625496  \n",
      "Ag  C   Ag  1   0.0363   1.342   1.2181   0.2704    0.1474    1.0 1.0  0.0                0.0                3.7982 0.2589 0.0               0.0                \n",
      "Ag  Ag  Si  1   1.8096   0.0     212.4988 1168.7316 -0.546    1.0 1.0  0.0                0.0                2.7376 0.658  0.0               0.0                \n",
      "Ag  Ag  C   1   0.9386   0.0     3.5817   1.3679    -1.1155   1.0 1.0  0.0                0.0                3.7047 0.465  0.0               0.0                \n",
      "Ag  Ag  Ag  1   0.0363   1.342   1.2181   0.2704    0.1474    1.0 1.0  1.0429706991278744 33.62657539992885  3.7982 0.2589 4.200877381947252 29633.28811256642  \n"
     ]
    }
   ],
   "source": [
    "paramfile = Path('..', 'potentials', '2020--Chen-N', 'SiCAg.abop')\n",
    "tersoff = Tersoff.abop(paramfile)\n",
    "\n",
    "if tersoff.pair_style == 'tersoff':\n",
    "    outfile = paramfile.as_posix().replace('.abop', '_abop.tersoff')\n",
    "else:\n",
    "    outfile = paramfile.as_posix().replace('.abop', '_abop.tersoff.zbl')\n",
    "tersoff.save(outfile, headers=headers)\n",
    "\n",
    "print(str(tersoff))"
   ]
  },
  {
   "cell_type": "code",
   "execution_count": 44,
   "id": "c3b3111b-68c9-4bd9-a3a5-17986b68b1e8",
   "metadata": {},
   "outputs": [
    {
     "name": "stdout",
     "output_type": "stream",
     "text": [
      "#e1 e2  e3  m   gamma    lambda3 c         d         costheta0 n   beta lambda2            B                  Rcut   D      lambda1            A                  \n",
      "Si  Si  Si  1   0.114354 0.0     2.00494   0.81472   -0.259    1.0 1.0  1.5381049333846057 219.52162426831347 2.82   0.14   2.833189287294444  2145.7127998557976 \n",
      "Si  Si  C   1   0.011877 0.0     273987.0  180.314   -0.68     1.0 1.0  0.0                0.0                2.4    0.2    0.0                0.0                \n",
      "Si  Si  Pd  1   0.0516   -3.098  1466.9545 4263.1292 -0.2722   1.0 1.0  0.0                0.0                2.5359 0.8622 0.0                0.0                \n",
      "Si  C   Si  1   0.114354 0.0     2.00494   0.81472   -0.259    1.0 1.0  0.0                0.0                2.82   0.14   0.0                0.0                \n",
      "Si  C   C   1   0.011877 0.0     273987.0  180.314   -0.68     1.0 1.0  1.7680742125893942 225.1894805180968  2.4    0.2    3.265633070652611  1779.3614414399558 \n",
      "Si  C   Pd  1   0.0516   2.65    1466.9545 4263.1292 -0.2722   1.0 1.0  0.0                0.0                2.5359 0.8622 0.0                0.0                \n",
      "Si  Pd  Si  1   0.114354 7.0121  2.00494   0.81472   -0.259    1.0 1.0  0.0                0.0                2.82   0.14   0.0                0.0                \n",
      "Si  Pd  C   1   0.011877 -0.0516 273987.0  180.314   -0.68     1.0 1.0  0.0                0.0                2.4    0.2    0.0                0.0                \n",
      "Si  Pd  Pd  1   0.0516   0.0     1466.9545 4263.1292 -0.2722   1.0 1.0  1.6604755270348457 235.8570613468479  2.5359 0.8622 3.1876148692487933 2888.283371338792  \n",
      "C   Si  Si  1   0.011877 0.0     273987.0  180.314   -0.68     1.0 1.0  1.7680742125893942 225.1894805180968  2.4    0.2    3.265633070652611  1779.3614414399558 \n",
      "C   Si  C   1   0.11233  0.0     181.91    6.28433   -0.5556   1.0 1.0  0.0                0.0                2.0    0.15   0.0                0.0                \n",
      "C   Si  Pd  1   0.0533   3.599   19.544    1.7206    -0.904    1.0 1.0  0.0                0.0                3.4677 0.683  0.0                0.0                \n",
      "C   C   Si  1   0.011877 0.0     273987.0  180.314   -0.68     1.0 1.0  0.0                0.0                2.4    0.2    0.0                0.0                \n",
      "C   C   C   1   0.11233  0.0     181.91    6.28433   -0.5556   1.0 1.0  1.930900932868363  175.42665059955047 2.0    0.15   4.184262321525742  2019.8449017464711 \n",
      "C   C   Pd  1   0.0533   2.6608  19.544    1.7206    -0.904    1.0 1.0  0.0                0.0                3.4677 0.683  0.0                0.0                \n",
      "C   Pd  Si  1   0.011877 -1.3802 273987.0  180.314   -0.68     1.0 1.0  0.0                0.0                2.4    0.2    0.0                0.0                \n",
      "C   Pd  C   1   0.11233  2.5341  181.91    6.28433   -0.5556   1.0 1.0  0.0                0.0                2.0    0.15   0.0                0.0                \n",
      "C   Pd  Pd  1   0.0533   0.0     19.544    1.7206    -0.904    1.0 1.0  1.9001420693083562 190.49873536778654 3.4677 0.683  7.343099026842141  708486.2603968936  \n",
      "Pd  Si  Si  1   0.0516   5.1745  1466.9545 4263.1292 -0.2722   1.0 1.0  1.6604755270348457 235.8570613468479  2.5359 0.8622 3.1876148692487933 2888.283371338792  \n",
      "Pd  Si  C   1   0.0533   0.3017  19.544    1.7206    -0.904    1.0 1.0  0.0                0.0                3.4677 0.683  0.0                0.0                \n",
      "Pd  Si  Pd  1   0.346    2.1704  4.2167    0.8216    -0.2328   1.0 1.0  0.0                0.0                3.5008 0.1929 0.0                0.0                \n",
      "Pd  C   Si  1   0.0516   1.5845  1466.9545 4263.1292 -0.2722   1.0 1.0  0.0                0.0                2.5359 0.8622 0.0                0.0                \n",
      "Pd  C   C   1   0.0533   2.9764  19.544    1.7206    -0.904    1.0 1.0  1.9001420693083562 190.49873536778654 3.4677 0.683  7.343099026842141  708486.2603968936  \n",
      "Pd  C   Pd  1   0.346    2.1704  4.2167    0.8216    -0.2328   1.0 1.0  0.0                0.0                3.5008 0.1929 0.0                0.0                \n",
      "Pd  Pd  Si  1   0.0516   0.0     1466.9545 4263.1292 -0.2722   1.0 1.0  0.0                0.0                2.5359 0.8622 0.0                0.0                \n",
      "Pd  Pd  C   1   0.0533   0.0     19.544    1.7206    -0.904    1.0 1.0  0.0                0.0                3.4677 0.683  0.0                0.0                \n",
      "Pd  Pd  Pd  1   0.346    2.1704  4.2167    0.8216    -0.2328   1.0 1.0  1.8452750004819685 637.6595160765334  3.5008 0.1929 2.266551283092002  1456.0751405180747 \n"
     ]
    }
   ],
   "source": [
    "paramfile = Path('..', 'potentials', '2020--Chen-N', 'SiCPd.abop')\n",
    "tersoff = Tersoff.abop(paramfile)\n",
    "\n",
    "if tersoff.pair_style == 'tersoff':\n",
    "    outfile = paramfile.as_posix().replace('.abop', '_abop.tersoff')\n",
    "else:\n",
    "    outfile = paramfile.as_posix().replace('.abop', '_abop.tersoff.zbl')\n",
    "tersoff.save(outfile, headers=headers)\n",
    "\n",
    "print(str(tersoff))"
   ]
  },
  {
   "cell_type": "code",
   "execution_count": 45,
   "id": "1b827da6-67c4-4ea7-8f2b-ddcdc8cd2c57",
   "metadata": {},
   "outputs": [
    {
     "name": "stdout",
     "output_type": "stream",
     "text": [
      "#e1 e2  e3  m   gamma    lambda3 c        d       costheta0 n   beta lambda2            B                  Rcut   D      lambda1            A                  \n",
      "Si  Si  Si  1   0.114354 0.0     2.00494  0.81472 -0.259    1.0 1.0  1.5381049333846057 219.52162426831347 2.82   0.14   2.833189287294444  2145.7127998557976 \n",
      "Si  Si  C   1   0.011877 0.0     273987.0 180.314 -0.68     1.0 1.0  0.0                0.0                2.4    0.2    0.0                0.0                \n",
      "Si  Si  Ru  1   0.1371   -0.6469 941.1976 26.9482 0.1935    1.0 1.0  0.0                0.0                1.8818 0.7751 0.0                0.0                \n",
      "Si  C   Si  1   0.114354 0.0     2.00494  0.81472 -0.259    1.0 1.0  0.0                0.0                2.82   0.14   0.0                0.0                \n",
      "Si  C   C   1   0.011877 0.0     273987.0 180.314 -0.68     1.0 1.0  1.7680742125893942 225.1894805180968  2.4    0.2    3.265633070652611  1779.3614414399558 \n",
      "Si  C   Ru  1   0.1371   3.5818  941.1976 26.9482 0.1935    1.0 1.0  0.0                0.0                1.8818 0.7751 0.0                0.0                \n",
      "Si  Ru  Si  1   0.114354 26.5754 2.00494  0.81472 -0.259    1.0 1.0  0.0                0.0                2.82   0.14   0.0                0.0                \n",
      "Si  Ru  C   1   0.011877 -2.1381 273987.0 180.314 -0.68     1.0 1.0  0.0                0.0                2.4    0.2    0.0                0.0                \n",
      "Si  Ru  Ru  1   0.1371   0.0     941.1976 26.9482 0.1935    1.0 1.0  1.8353623369498564 473.65464199053514 1.8818 0.7751 3.4572720341124445 8586.75127267921   \n",
      "C   Si  Si  1   0.011877 0.0     273987.0 180.314 -0.68     1.0 1.0  1.7680742125893942 225.1894805180968  2.4    0.2    3.265633070652611  1779.3614414399558 \n",
      "C   Si  C   1   0.11233  0.0     181.91   6.28433 -0.5556   1.0 1.0  0.0                0.0                2.0    0.15   0.0                0.0                \n",
      "C   Si  Ru  1   0.128    4.4442  6.7373   1.2811  -0.9168   1.0 1.0  0.0                0.0                3.2631 0.1886 0.0                0.0                \n",
      "C   C   Si  1   0.011877 0.0     273987.0 180.314 -0.68     1.0 1.0  0.0                0.0                2.4    0.2    0.0                0.0                \n",
      "C   C   C   1   0.11233  0.0     181.91   6.28433 -0.5556   1.0 1.0  1.930900932868363  175.42665059955047 2.0    0.15   4.184262321525742  2019.8449017464711 \n",
      "C   C   Ru  1   0.128    0.096   6.7373   1.2811  -0.9168   1.0 1.0  0.0                0.0                3.2631 0.1886 0.0                0.0                \n",
      "C   Ru  Si  1   0.011877 -2.6391 273987.0 180.314 -0.68     1.0 1.0  0.0                0.0                2.4    0.2    0.0                0.0                \n",
      "C   Ru  C   1   0.11233  0.0144  181.91   6.28433 -0.5556   1.0 1.0  0.0                0.0                2.0    0.15   0.0                0.0                \n",
      "C   Ru  Ru  1   0.128    0.0     6.7373   1.2811  -0.9168   1.0 1.0  1.679567486155272  159.25095820369546 3.2631 0.1886 6.181480176045864  96948.71970725866  \n",
      "Ru  Si  Si  1   0.1371   12.5283 941.1976 26.9482 0.1935    1.0 1.0  1.8353623369498564 473.65464199053514 1.8818 0.7751 3.4572720341124445 8586.75127267921   \n",
      "Ru  Si  C   1   0.128    -0.2975 6.7373   1.2811  -0.9168   1.0 1.0  0.0                0.0                3.2631 0.1886 0.0                0.0                \n",
      "Ru  Si  Ru  1   0.0597   4.2836  1.8525   1.4562  0.3998    1.0 1.0  0.0                0.0                4.777  0.2617 0.0                0.0                \n",
      "Ru  C   Si  1   0.1371   6.681   941.1976 26.9482 0.1935    1.0 1.0  0.0                0.0                1.8818 0.7751 0.0                0.0                \n",
      "Ru  C   C   1   0.128    1.5877  6.7373   1.2811  -0.9168   1.0 1.0  1.679567486155272  159.25095820369546 3.2631 0.1886 6.181480176045864  96948.71970725866  \n",
      "Ru  C   Ru  1   0.0597   4.2836  1.8525   1.4562  0.3998    1.0 1.0  0.0                0.0                4.777  0.2617 0.0                0.0                \n",
      "Ru  Ru  Si  1   0.1371   0.0     941.1976 26.9482 0.1935    1.0 1.0  0.0                0.0                1.8818 0.7751 0.0                0.0                \n",
      "Ru  Ru  C   1   0.128    0.0     6.7373   1.2811  -0.9168   1.0 1.0  0.0                0.0                3.2631 0.1886 0.0                0.0                \n",
      "Ru  Ru  Ru  1   0.0597   4.2836  1.8525   1.4562  0.3998    1.0 1.0  1.7732238165105811 543.2810986163612  4.777  0.2617 2.468859519727682  1703.8612850846534 \n"
     ]
    }
   ],
   "source": [
    "paramfile = Path('..', 'potentials', '2020--Chen-N', 'SiCRu.abop')\n",
    "tersoff = Tersoff.abop(paramfile)\n",
    "\n",
    "if tersoff.pair_style == 'tersoff':\n",
    "    outfile = paramfile.as_posix().replace('.abop', '_abop.tersoff')\n",
    "else:\n",
    "    outfile = paramfile.as_posix().replace('.abop', '_abop.tersoff.zbl')\n",
    "tersoff.save(outfile, headers=headers)\n",
    "\n",
    "print(str(tersoff))"
   ]
  },
  {
   "cell_type": "code",
   "execution_count": 46,
   "id": "192c1fa8-d18e-4213-a41e-5f6f686c03c4",
   "metadata": {},
   "outputs": [
    {
     "name": "stdout",
     "output_type": "stream",
     "text": [
      "#e1 e2  e3  m   gamma    lambda3 c        d       costheta0 n   beta lambda2            B                  Rcut   D      lambda1            A                  \n",
      "Si  Si  Si  1   0.114354 0.0     2.00494  0.81472 -0.259    1.0 1.0  1.5381049333846057 219.52162426831347 2.82   0.14   2.833189287294444  2145.7127998557976 \n",
      "Si  Si  C   1   0.011877 0.0     273987.0 180.314 -0.68     1.0 1.0  0.0                0.0                2.4    0.2    0.0                0.0                \n",
      "Si  Si  I   1   0.1338   3.9677  4.2429   28.1896 0.0623    1.0 1.0  0.0                0.0                2.721  0.7941 0.0                0.0                \n",
      "Si  C   Si  1   0.114354 0.0     2.00494  0.81472 -0.259    1.0 1.0  0.0                0.0                2.82   0.14   0.0                0.0                \n",
      "Si  C   C   1   0.011877 0.0     273987.0 180.314 -0.68     1.0 1.0  1.7680742125893942 225.1894805180968  2.4    0.2    3.265633070652611  1779.3614414399558 \n",
      "Si  C   I   1   0.1338   2.3578  4.2429   28.1896 0.0623    1.0 1.0  0.0                0.0                2.721  0.7941 0.0                0.0                \n",
      "Si  I   Si  1   0.114354 4.8304  2.00494  0.81472 -0.259    1.0 1.0  0.0                0.0                2.82   0.14   0.0                0.0                \n",
      "Si  I   C   1   0.011877 -1.1041 273987.0 180.314 -0.68     1.0 1.0  0.0                0.0                2.4    0.2    0.0                0.0                \n",
      "Si  I   I   1   0.1338   0.0     4.2429   28.1896 0.0623    1.0 1.0  0.8197842821248258 27.760350605003854 2.721  0.7941 2.3940160390891285 553.7682258689345  \n",
      "C   Si  Si  1   0.011877 0.0     273987.0 180.314 -0.68     1.0 1.0  1.7680742125893942 225.1894805180968  2.4    0.2    3.265633070652611  1779.3614414399558 \n",
      "C   Si  C   1   0.11233  0.0     181.91   6.28433 -0.5556   1.0 1.0  0.0                0.0                2.0    0.15   0.0                0.0                \n",
      "C   Si  I   1   0.1023   1.9857  28.9737  2.0529  0.1676    1.0 1.0  0.0                0.0                3.9449 0.3283 0.0                0.0                \n",
      "C   C   Si  1   0.011877 0.0     273987.0 180.314 -0.68     1.0 1.0  0.0                0.0                2.4    0.2    0.0                0.0                \n",
      "C   C   C   1   0.11233  0.0     181.91   6.28433 -0.5556   1.0 1.0  1.930900932868363  175.42665059955047 2.0    0.15   4.184262321525742  2019.8449017464711 \n",
      "C   C   I   1   0.1023   -3.1954 28.9737  2.0529  0.1676    1.0 1.0  0.0                0.0                3.9449 0.3283 0.0                0.0                \n",
      "C   I   Si  1   0.011877 0.0954  273987.0 180.314 -0.68     1.0 1.0  0.0                0.0                2.4    0.2    0.0                0.0                \n",
      "C   I   C   1   0.11233  2.3667  181.91   6.28433 -0.5556   1.0 1.0  0.0                0.0                2.0    0.15   0.0                0.0                \n",
      "C   I   I   1   0.1023   0.0     28.9737  2.0529  0.1676    1.0 1.0  1.1927307961898648 34.61855450412193  3.9449 0.3283 5.458293942603677  65817.7982900835   \n",
      "I   Si  Si  1   0.1338   2.5711  4.2429   28.1896 0.0623    1.0 1.0  0.8197842821248258 27.760350605003854 2.721  0.7941 2.3940160390891285 553.7682258689345  \n",
      "I   Si  C   1   0.1023   2.9734  28.9737  2.0529  0.1676    1.0 1.0  0.0                0.0                3.9449 0.3283 0.0                0.0                \n",
      "I   Si  I   1   0.0      0.0     1.0      1.0     1.0       1.0 1.0  0.0                0.0                1.0    0.0    0.0                0.0                \n",
      "I   C   Si  1   0.1338   0.2915  4.2429   28.1896 0.0623    1.0 1.0  0.0                0.0                2.721  0.7941 0.0                0.0                \n",
      "I   C   C   1   0.1023   0.0052  28.9737  2.0529  0.1676    1.0 1.0  1.1927307961898648 34.61855450412193  3.9449 0.3283 5.458293942603677  65817.7982900835   \n",
      "I   C   I   1   0.0      0.0     1.0      1.0     1.0       1.0 1.0  0.0                0.0                1.0    0.0    0.0                0.0                \n",
      "I   I   Si  1   0.1338   0.0     4.2429   28.1896 0.0623    1.0 1.0  0.0                0.0                2.721  0.7941 0.0                0.0                \n",
      "I   I   C   1   0.1023   0.0     28.9737  2.0529  0.1676    1.0 1.0  0.0                0.0                3.9449 0.3283 0.0                0.0                \n",
      "I   I   I   1   0.0      0.0     1.0      1.0     1.0       1.0 1.0  0.0                0.0                1.0    0.0    0.0                0.0                \n"
     ]
    }
   ],
   "source": [
    "paramfile = Path('..', 'potentials', '2020--Chen-N', 'SiCI.abop')\n",
    "tersoff = Tersoff.abop(paramfile)\n",
    "\n",
    "if tersoff.pair_style == 'tersoff':\n",
    "    outfile = paramfile.as_posix().replace('.abop', '_abop.tersoff')\n",
    "else:\n",
    "    outfile = paramfile.as_posix().replace('.abop', '_abop.tersoff.zbl')\n",
    "tersoff.save(outfile, headers=headers)\n",
    "\n",
    "print(str(tersoff))"
   ]
  },
  {
   "cell_type": "code",
   "execution_count": null,
   "id": "b1a6be7f-a624-47e3-bc64-76f2dc581cc9",
   "metadata": {},
   "outputs": [],
   "source": []
  }
 ],
 "metadata": {
  "kernelspec": {
   "display_name": "ipr",
   "language": "python",
   "name": "ipr"
  },
  "language_info": {
   "codemirror_mode": {
    "name": "ipython",
    "version": 3
   },
   "file_extension": ".py",
   "mimetype": "text/x-python",
   "name": "python",
   "nbconvert_exporter": "python",
   "pygments_lexer": "ipython3",
   "version": "3.11.11"
  }
 },
 "nbformat": 4,
 "nbformat_minor": 5
}
